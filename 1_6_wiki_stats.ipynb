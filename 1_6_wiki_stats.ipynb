{
 "cells": [
  {
   "cell_type": "code",
   "execution_count": 1,
   "metadata": {},
   "outputs": [],
   "source": [
    "#import modules\n",
    "import psycopg2 \n",
    "from time import process_time \n",
    "from IPython.display import Image \n",
    "import matplotlib.pyplot as plt  \n",
    "import numpy as np \n",
    "import pandas as pd "
   ]
  },
  {
   "cell_type": "code",
   "execution_count": 2,
   "metadata": {},
   "outputs": [],
   "source": [
    "#Function for queries with database\n",
    "def execQuery(query,*printOption):\n",
    "    try:\n",
    "        connection = psycopg2.connect(user = \"postgres\",\n",
    "                                      password = \"1234\",\n",
    "                                      host = \"localhost\",\n",
    "                                      port = \"5432\",\n",
    "                                      database = \"FakeNews\")\n",
    "        cursor = connection.cursor()\n",
    "        cursor.execute(query)\n",
    "        record = cursor.fetchall()\n",
    "        return record\n",
    "    except (Exception, psycopg2.Error) as error :\n",
    "        connection = False\n",
    "        print (\"Error while connecting to PostgreSQL:\", error)\n",
    "    finally:\n",
    "        if(connection):\n",
    "            cursor.close()\n",
    "            connection.close()\n",
    "            if not printOption:\n",
    "                print(\"Executed query and closed connection.\")"
   ]
  },
  {
   "cell_type": "markdown",
   "metadata": {},
   "source": [
    "## Counting articles in database "
   ]
  },
  {
   "cell_type": "code",
   "execution_count": 3,
   "metadata": {},
   "outputs": [
    {
     "name": "stdout",
     "output_type": "stream",
     "text": [
      "Executed query and closed connection.\n"
     ]
    },
    {
     "data": {
      "text/plain": [
       "[(7474,)]"
      ]
     },
     "execution_count": 3,
     "metadata": {},
     "output_type": "execute_result"
    }
   ],
   "source": [
    "#counting articles\n",
    "query0 = \"\"\"\n",
    "SELECT COUNT(*)\n",
    "FROM wiki_article\n",
    "\"\"\"\n",
    "\n",
    "res0 = execQuery(query0)\n",
    "res0"
   ]
  },
  {
   "cell_type": "markdown",
   "metadata": {},
   "source": [
    "## Histogram of articles over publish years"
   ]
  },
  {
   "cell_type": "code",
   "execution_count": 4,
   "metadata": {},
   "outputs": [
    {
     "name": "stdout",
     "output_type": "stream",
     "text": [
      "Executed query and closed connection.\n"
     ]
    },
    {
     "data": {
      "text/plain": [
       "[(68, 2019.0),\n",
       " (68, 2016.0),\n",
       " (101, 2017.0),\n",
       " (708, 2009.0),\n",
       " (1130, 2007.0),\n",
       " (952, 2008.0),\n",
       " (1251, 2005.0),\n",
       " (1460, 2006.0),\n",
       " (62, 2018.0),\n",
       " (121, 2014.0),\n",
       " (588, 2010.0),\n",
       " (132, 2013.0),\n",
       " (105, 2015.0),\n",
       " (28, 2020.0),\n",
       " (345, 2011.0),\n",
       " (68, 2004.0),\n",
       " (230, 2012.0)]"
      ]
     },
     "execution_count": 4,
     "metadata": {},
     "output_type": "execute_result"
    }
   ],
   "source": [
    "query = \"\"\"\n",
    "SELECT COUNT(*), EXTRACT(YEAR FROM time_stamp::date)\n",
    "FROM wiki_article INNER JOIN wiki_time using (time_id)\n",
    "GROUP BY EXTRACT(YEAR FROM time_stamp::date)\n",
    "\"\"\"\n",
    "years = execQuery(query)\n",
    "years"
   ]
  },
  {
   "cell_type": "markdown",
   "metadata": {},
   "source": [
    "These tuples are used to make a histogram"
   ]
  },
  {
   "cell_type": "code",
   "execution_count": 5,
   "metadata": {},
   "outputs": [
    {
     "data": {
      "image/png": "[encoded data removed]",
      "text/plain": [
       "<Figure size 864x216 with 1 Axes>"
      ]
     },
     "metadata": {
      "needs_background": "light"
     },
     "output_type": "display_data"
    }
   ],
   "source": [
    "def makeChart():\n",
    "    d = {year:cnt for (cnt,year) in years}\n",
    "    \n",
    "    year_lst = list(d)\n",
    "    year_lst.sort()\n",
    "    year_lst\n",
    "    \n",
    "    cnt_lst = [d[year] for year in year_lst]\n",
    "    \n",
    "    fig = plt.figure(figsize=(12,3))\n",
    "    ax = fig.add_axes([0,0,1,1])\n",
    "    ax.bar(list(map(str,list(map(int,year_lst)))),cnt_lst)\n",
    "    ax.set_xlabel('Publish year')\n",
    "    ax.set_ylabel('Article count')\n",
    "    plt.setp(ax.get_xticklabels(), rotation=45, ha=\"right\", rotation_mode=\"anchor\")\n",
    "makeChart()"
   ]
  }
 ],
 "metadata": {
  "kernelspec": {
   "display_name": "Python 3",
   "language": "python",
   "name": "python3"
  },
  "language_info": {
   "codemirror_mode": {
    "name": "ipython",
    "version": 3
   },
   "file_extension": ".py",
   "mimetype": "text/x-python",
   "name": "python",
   "nbconvert_exporter": "python",
   "pygments_lexer": "ipython3",
   "version": "3.7.4"
  }
 },
 "nbformat": 4,
 "nbformat_minor": 2
}
