{
 "cells": [
  {
   "cell_type": "markdown",
   "metadata": {},
   "source": [
    "# Grid search for LinearSVC"
   ]
  },
  {
   "cell_type": "code",
   "execution_count": 1,
   "metadata": {},
   "outputs": [],
   "source": [
    "import pandas as pd\n",
    "import numpy as np\n",
    "import re\n",
    "\n",
    "from sklearn.feature_extraction.text import TfidfVectorizer\n",
    "from sklearn.model_selection import GridSearchCV\n",
    "\n",
    "from sklearn.svm import LinearSVC"
   ]
  },
  {
   "cell_type": "code",
   "execution_count": 2,
   "metadata": {},
   "outputs": [
    {
     "name": "stderr",
     "output_type": "stream",
     "text": [
      "/opt/anaconda3/envs/DS/lib/python3.7/site-packages/sklearn/svm/_base.py:947: ConvergenceWarning: Liblinear failed to converge, increase the number of iterations.\n",
      "  \"the number of iterations.\", ConvergenceWarning)\n"
     ]
    },
    {
     "name": "stdout",
     "output_type": "stream",
     "text": [
      "{'mean_fit_time': array([ 57.3751792 , 389.88415475, 593.46790943, 606.31561642,\n",
      "       613.43005953, 622.84552917]), 'std_fit_time': array([ 4.36892158, 35.07715998, 20.7568969 , 24.34150044, 27.25752813,\n",
      "       25.05422964]), 'mean_score_time': array([1.50826998, 2.517555  , 2.5302794 , 2.49420462, 2.48841724,\n",
      "       2.46283474]), 'std_score_time': array([0.37549849, 0.22365498, 0.20960239, 0.25929919, 0.26022899,\n",
      "       0.23066044]), 'param_C': masked_array(data=[1, 10, 50, 100, 150, 200],\n",
      "             mask=[False, False, False, False, False, False],\n",
      "       fill_value='?',\n",
      "            dtype=object), 'params': [{'C': 1}, {'C': 10}, {'C': 50}, {'C': 100}, {'C': 150}, {'C': 200}], 'split0_test_score': array([0.86788075, 0.85101341, 0.83618113, 0.83100847, 0.82851814,\n",
      "       0.82728943]), 'split1_test_score': array([0.85155564, 0.83914231, 0.82609817, 0.8204702 , 0.81913178,\n",
      "       0.8171406 ]), 'split2_test_score': array([0.87830218, 0.86342593, 0.84692601, 0.8391478 , 0.83458399,\n",
      "       0.83213204]), 'split3_test_score': array([0.84980582, 0.84997038, 0.84518167, 0.84281749, 0.84144616,\n",
      "       0.84058496]), 'split4_test_score': array([0.92972727, 0.92625505, 0.92147183, 0.91894857, 0.91670506,\n",
      "       0.91696288]), 'mean_test_score': array([0.87545433, 0.86596141, 0.85517176, 0.85047851, 0.84807703,\n",
      "       0.84682198]), 'std_test_score': array([0.02912049, 0.03111325, 0.03396884, 0.03508506, 0.03508907,\n",
      "       0.0358802 ]), 'rank_test_score': array([1, 2, 3, 4, 5, 6], dtype=int32)}\n",
      "{'C': 1}\n"
     ]
    }
   ],
   "source": [
    "def gridsearch():\n",
    "    def load2():\n",
    "        # load and clean data\n",
    "        filepath = '~/fake_news/1mio-clean.csv'\n",
    "        df = pd.read_csv(filepath,usecols=[3,5])\n",
    "        df = df.dropna()\n",
    "        df['b_type'] = df['type'].apply(lambda x: 'FAKE' if x in ['fake','satire','bias',\n",
    "                                                                  'conspiracy','junksci'] else 'REAL')\n",
    "        X, y = df['content'], df['b_type']\n",
    "        \n",
    "        # tf-idf\n",
    "        vectorizer = TfidfVectorizer()\n",
    "        X = vectorizer.fit_transform(X)\n",
    "        return (X,y)\n",
    "    \n",
    "    X,y= load2()\n",
    "    \n",
    "    # grid search\n",
    "    param_grid = {'C':[1,10,50,100,150,200]}\n",
    "    gs = GridSearchCV(LinearSVC(), param_grid=param_grid, cv=5)\n",
    "    gs.fit(X, y)\n",
    "    \n",
    "    print(gs.cv_results_)\n",
    "    print(gs.best_params_)\n",
    "    \n",
    "gridsearch()"
   ]
  },
  {
   "cell_type": "markdown",
   "metadata": {},
   "source": [
    "so the best parameter is C=1"
   ]
  },
  {
   "cell_type": "code",
   "execution_count": null,
   "metadata": {},
   "outputs": [],
   "source": []
  }
 ],
 "metadata": {
  "kernelspec": {
   "display_name": "Python 3",
   "language": "python",
   "name": "python3"
  },
  "language_info": {
   "codemirror_mode": {
    "name": "ipython",
    "version": 3
   },
   "file_extension": ".py",
   "mimetype": "text/x-python",
   "name": "python",
   "nbconvert_exporter": "python",
   "pygments_lexer": "ipython3",
   "version": "3.7.6"
  }
 },
 "nbformat": 4,
 "nbformat_minor": 4
}
