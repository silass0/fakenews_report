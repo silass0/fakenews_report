{
 "cells": [
  {
   "cell_type": "markdown",
   "metadata": {},
   "source": [
    "# Fake news prediction with CNN"
   ]
  },
  {
   "cell_type": "code",
   "execution_count": 1,
   "metadata": {
    "colab": {
     "base_uri": "https://localhost:8080/",
     "height": 71
    },
    "colab_type": "code",
    "id": "9Qe3cAIGwHV6",
    "outputId": "ffd02c6c-7624-447e-fb20-3869ed987cae"
   },
   "outputs": [
    {
     "name": "stderr",
     "output_type": "stream",
     "text": [
      "/usr/local/lib/python3.6/dist-packages/statsmodels/tools/_testing.py:19: FutureWarning: pandas.util.testing is deprecated. Use the functions in the public API at pandas.testing instead.\n",
      "  import pandas.util.testing as tm\n"
     ]
    }
   ],
   "source": [
    "import pandas as pd\n",
    "import numpy as np\n",
    "import csv\n",
    "import re\n",
    "import matplotlib.pyplot as plt\n",
    "import seaborn as sns\n",
    "\n",
    "from gensim.utils import simple_preprocess\n",
    "from gensim.corpora import Dictionary\n",
    "\n",
    "from sklearn.model_selection import train_test_split\n",
    "\n",
    "import torch\n",
    "import torch.nn as nn\n",
    "import torch.nn.functional as F\n",
    "import torch.optim as optim\n",
    "from torch.utils.data import TensorDataset, DataLoader"
   ]
  },
  {
   "cell_type": "code",
   "execution_count": 2,
   "metadata": {
    "colab": {
     "base_uri": "https://localhost:8080/",
     "height": 34
    },
    "colab_type": "code",
    "id": "rAzIIakW0-gW",
    "outputId": "297faaba-0fdc-49c9-8810-4e84cb321a0f"
   },
   "outputs": [
    {
     "name": "stdout",
     "output_type": "stream",
     "text": [
      "cuda\n"
     ]
    }
   ],
   "source": [
    "# try to run on GPU is possible\n",
    "if torch.cuda.is_available():\n",
    "    device = torch.device('cuda')\n",
    "else:\n",
    "    device = torch.device('cpu')\n",
    "print(device)"
   ]
  },
  {
   "cell_type": "markdown",
   "metadata": {},
   "source": [
    "## Prepare data"
   ]
  },
  {
   "cell_type": "code",
   "execution_count": 0,
   "metadata": {
    "colab": {},
    "colab_type": "code",
    "id": "ltlQObYK0-jE"
   },
   "outputs": [],
   "source": [
    "TOTAL_NUM_ROWS = 80000 # total number og articles used from dataset\n",
    "\n",
    "# load fake news dataset\n",
    "def load():\n",
    "    filepath = '/content/drive/My Drive/1mio-clean.csv'\n",
    "    df = pd.read_csv(filepath,usecols=[3,5])\n",
    "    df = df.dropna()\n",
    "    df = df.drop_duplicates()\n",
    "    # map to binary labels:\n",
    "    df['b_type'] = df['type'].apply(lambda x: 'FAKE' if x in ['fake','satire','bias',\n",
    "                                                              'conspiracy','junksci'] else 'REAL')\n",
    "    \n",
    "    # split the dataset with same state as earlier, then return a concatenation of a subset of each split\n",
    "    train, test = train_test_split(df, test_size=0.2, random_state=1)\n",
    "\n",
    "    return pd.concat([train.sample(int(TOTAL_NUM_ROWS*0.8)), test.sample(int(TOTAL_NUM_ROWS*0.2))])\n",
    "df = load()"
   ]
  },
  {
   "cell_type": "code",
   "execution_count": 4,
   "metadata": {
    "colab": {
     "base_uri": "https://localhost:8080/",
     "height": 34
    },
    "colab_type": "code",
    "id": "v4gZQjNGdpEk",
    "outputId": "526084bd-424e-4a34-e963-f3408314e87c"
   },
   "outputs": [
    {
     "name": "stdout",
     "output_type": "stream",
     "text": [
      "number of vectors: 400000\n"
     ]
    }
   ],
   "source": [
    "# load glove embedding with vector dim = 100\n",
    "EMBEDDING_DIM = 100\n",
    "\n",
    "def create_embeddings_index():\n",
    "    words_df = pd.read_csv('/content/drive/My Drive/glove.6B.100d.txt', sep=\" \", index_col=0, na_values=None,\n",
    "                         keep_default_na=False, header=None, quoting=csv.QUOTE_NONE)\n",
    "    return {word: words_df.loc[word].values for word in list(words_df.index.values)}\n",
    "embeddings_index = create_embeddings_index()\n",
    "print('number of vectors:',len(embeddings_index))"
   ]
  },
  {
   "cell_type": "code",
   "execution_count": 5,
   "metadata": {
    "colab": {
     "base_uri": "https://localhost:8080/",
     "height": 68
    },
    "colab_type": "code",
    "id": "4FZ-ZdWG0-l6",
    "outputId": "0988df96-210a-45fb-8c31-f542dbda5cc5"
   },
   "outputs": [
    {
     "name": "stdout",
     "output_type": "stream",
     "text": [
      "Number of tokens: 9998\n",
      "tokenized_texts first 10 words in first text: ['complete', 'ppp', 'report', 'on', 'their', 'recent', 'polling', 'for', 'arizona', 'can']\n",
      "word_index of \"the\": 237\n"
     ]
    }
   ],
   "source": [
    "# tokenize texts with gensim\n",
    "tokenized_texts = list()\n",
    "for text in df.content:\n",
    "    tokenized_texts.append(simple_preprocess(text, min_len=0))\n",
    "\n",
    "MAX_NUM_WORDS = 10000 # maximum number of words used for the model\n",
    "MAX_TEXT_LENGTH = 1000 # maximum number of length (in words) of each article\n",
    "    \n",
    "# map word to id\n",
    "dictionary = Dictionary(tokenized_texts)\n",
    "dictionary.filter_extremes(no_below=0, no_above=1.0, keep_n=MAX_NUM_WORDS-2)\n",
    "\n",
    "word_index = dictionary.token2id\n",
    "\n",
    "print('Number of tokens:',len(word_index))\n",
    "print('tokenized_texts first 10 words in first text:',tokenized_texts[0][:10])\n",
    "print('word_index of \"the\":',word_index['the'])"
   ]
  },
  {
   "cell_type": "code",
   "execution_count": 6,
   "metadata": {
    "colab": {
     "base_uri": "https://localhost:8080/",
     "height": 51
    },
    "colab_type": "code",
    "id": "INo901ob0-o3",
    "outputId": "414a2eee-6b71-4384-af7c-503c204cafa3"
   },
   "outputs": [
    {
     "name": "stdout",
     "output_type": "stream",
     "text": [
      "Shape of data tensor: (80000, 1000)\n",
      "Length of label vector: 80000\n"
     ]
    }
   ],
   "source": [
    "# convert words in tokenized texts to integer id\n",
    "data = [dictionary.doc2idx(text) for text in tokenized_texts]\n",
    "\n",
    "# truncate and pad each text\n",
    "data = [text[:MAX_TEXT_LENGTH] for text in data]\n",
    "data = np.array([np.pad(text, (0, MAX_TEXT_LENGTH-len(text)), mode='constant',\n",
    "                        constant_values=-2) for text in data], dtype=int)\n",
    "\n",
    "# add 2 so padding is 0 and unknown words is 1\n",
    "data = data + 2 \n",
    "\n",
    "print('Shape of data tensor:',data.shape)\n",
    "print('Length of label vector:',len(df.b_type))"
   ]
  },
  {
   "cell_type": "code",
   "execution_count": 7,
   "metadata": {
    "colab": {
     "base_uri": "https://localhost:8080/",
     "height": 68
    },
    "colab_type": "code",
    "id": "qLPrMBKj0-ri",
    "outputId": "50fe598b-867d-4ed3-c9d3-893fa3342603"
   },
   "outputs": [
    {
     "name": "stdout",
     "output_type": "stream",
     "text": [
      "Shape of embedding matrix: torch.Size([10000, 100])\n",
      "Number of words not found in glove: 73\n",
      "['blockchain', 'lifesitenews', 'kossacks', 'investwatchblog', 'iwb', 'realdonaldtrump', 'naturalnews', 'hadn', 'amembassy', 'ciae']\n"
     ]
    }
   ],
   "source": [
    "# create embeding matrix\n",
    "# for words chosen in words_index use corresponding vector in glove if exsist\n",
    "\n",
    "embedding_matrix = np.zeros((MAX_NUM_WORDS,EMBEDDING_DIM))\n",
    "words_not_found = [] # number of words not found in glove\n",
    "\n",
    "for word,i in word_index.items():\n",
    "    embedding_vector = embeddings_index.get(word)\n",
    "    if embedding_vector is not None:\n",
    "        embedding_matrix[i+2] = embedding_vector\n",
    "    else:\n",
    "        words_not_found += [word]\n",
    "        \n",
    "embedding_matrix = torch.FloatTensor(embedding_matrix)  \n",
    "print('Shape of embedding matrix:',embedding_matrix.shape)\n",
    "print('Number of words not found in glove:',len(words_not_found))\n",
    "print(words_not_found[:10])"
   ]
  },
  {
   "cell_type": "markdown",
   "metadata": {},
   "source": [
    "it is seen that 'blockchain' is not included in GloVe, which is important for the LinearSVC"
   ]
  },
  {
   "cell_type": "code",
   "execution_count": 8,
   "metadata": {
    "colab": {
     "base_uri": "https://localhost:8080/",
     "height": 34
    },
    "colab_type": "code",
    "id": "vboVllo-0-un",
    "outputId": "373af358-2a3b-43b0-bd2f-cb62a12332fe"
   },
   "outputs": [
    {
     "name": "stdout",
     "output_type": "stream",
     "text": [
      "train: 56000   val: 8000   test: 16000\n"
     ]
    }
   ],
   "source": [
    "# convert FAKE to 1 and REAL to 0\n",
    "_y = list(df.b_type.apply(lambda x: 1 if x=='FAKE' else 0))\n",
    "\n",
    "# split into train and test as earlier, then split the train into train and validation\n",
    "x_train, x_test, y_train, y_test = data[:int(TOTAL_NUM_ROWS*0.8)], data[int(TOTAL_NUM_ROWS*0.8):], _y[:int(TOTAL_NUM_ROWS*0.8)], _y[int(TOTAL_NUM_ROWS*0.8):]\n",
    "x_train, x_val, y_train, y_val = train_test_split(x_train, y_train, test_size=int(len(df)/10))\n",
    "print('train:',len(x_train),'  val:',len(x_val),'  test:',len(x_test))"
   ]
  },
  {
   "cell_type": "code",
   "execution_count": 0,
   "metadata": {
    "colab": {},
    "colab_type": "code",
    "id": "9qOnC0no0-xO"
   },
   "outputs": [],
   "source": [
    "# prepare the data for the network\n",
    "batch_size = 128\n",
    "train_dataset = TensorDataset(torch.LongTensor(x_train),\n",
    "                             torch.LongTensor(y_train))\n",
    "train_loader = DataLoader(train_dataset, batch_size=batch_size, shuffle=True, num_workers=4)\n",
    "\n",
    "val_dataset = TensorDataset(torch.LongTensor(x_val),\n",
    "                             torch.LongTensor(y_val))\n",
    "val_loader = DataLoader(val_dataset, batch_size=batch_size, shuffle=True, num_workers=4)\n",
    "\n",
    "test_dataset = TensorDataset(torch.LongTensor(x_test),\n",
    "                             torch.LongTensor(y_test))\n",
    "test_loader = DataLoader(test_dataset, batch_size=batch_size, shuffle=False, num_workers=4)"
   ]
  },
  {
   "cell_type": "code",
   "execution_count": 0,
   "metadata": {
    "colab": {},
    "colab_type": "code",
    "id": "d4iswVel0-0F"
   },
   "outputs": [],
   "source": [
    "out_channels = 100\n",
    "kernel_sizes = [3, 4, 5]\n",
    "dropout = 0.5"
   ]
  },
  {
   "cell_type": "markdown",
   "metadata": {},
   "source": [
    "## The model"
   ]
  },
  {
   "cell_type": "code",
   "execution_count": 11,
   "metadata": {
    "colab": {
     "base_uri": "https://localhost:8080/",
     "height": 272
    },
    "colab_type": "code",
    "id": "ekYWaLwi0-21",
    "outputId": "849e7354-3da0-4e5e-b3d3-61810571f6f6"
   },
   "outputs": [
    {
     "name": "stdout",
     "output_type": "stream",
     "text": [
      "CNN(\n",
      "  (embed): Embedding(10000, 100)\n",
      "  (convs): ModuleList(\n",
      "    (0): Conv2d(1, 100, kernel_size=(3, 100), stride=(1, 1))\n",
      "    (1): Conv2d(1, 100, kernel_size=(4, 100), stride=(1, 1))\n",
      "    (2): Conv2d(1, 100, kernel_size=(5, 100), stride=(1, 1))\n",
      "  )\n",
      "  (pools): ModuleList(\n",
      "    (0): MaxPool2d(kernel_size=(998, 1), stride=(998, 1), padding=0, dilation=1, ceil_mode=False)\n",
      "    (1): MaxPool2d(kernel_size=(997, 1), stride=(997, 1), padding=0, dilation=1, ceil_mode=False)\n",
      "    (2): MaxPool2d(kernel_size=(996, 1), stride=(996, 1), padding=0, dilation=1, ceil_mode=False)\n",
      "  )\n",
      "  (dropout): Dropout(p=0.5, inplace=False)\n",
      "  (fc): Linear(in_features=300, out_features=2, bias=True)\n",
      ")\n"
     ]
    }
   ],
   "source": [
    "class CNN(nn.Module):\n",
    "    def __init__(self):\n",
    "        super(CNN,self).__init__()\n",
    "        self.embed = nn.Embedding.from_pretrained(embedding_matrix, freeze=False)\n",
    "        \n",
    "        self.convs = nn.ModuleList([nn.Conv2d(1, out_channels, (size, EMBEDDING_DIM)) for size in kernel_sizes])\n",
    "        \n",
    "        self.pools = nn.ModuleList([nn.MaxPool2d((MAX_TEXT_LENGTH+1-size, 1)) for size in kernel_sizes])\n",
    "        \n",
    "        self.dropout = nn.Dropout(dropout)\n",
    "        \n",
    "        self.fc = nn.Linear(out_channels*len(kernel_sizes), 2)\n",
    "        \n",
    "    def forward(self, x):\n",
    "\n",
    "        # (batch_size, text_length, embedding_dim)\n",
    "        x = self.embed(x)\n",
    "        \n",
    "        # (batch_size, 1, text_length, embedding_dim)\n",
    "        x = x.unsqueeze(1)\n",
    "        \n",
    "        # convolution and pool layer for each kernel size\n",
    "        # each (batch_size, out_channels, 1, 1)\n",
    "        x = [pool(F.relu(conv(x))) for conv,pool in zip(self.convs, self.pools)]\n",
    "        \n",
    "        # (batch_size, outchannels*len(kernel_sizes), 1, 1)\n",
    "        x = torch.cat(x, dim=1)\n",
    "        \n",
    "        # (batch_size, outchannels*len(kernel_sizes))\n",
    "        x = x.view(x.size(0), -1)\n",
    "        \n",
    "        x = self.dropout(x)\n",
    "        \n",
    "        # (batch_size, n_classes)\n",
    "        x = self.fc(x)\n",
    "        \n",
    "        return F.softmax(x, dim=1)\n",
    "        \n",
    "model = CNN().to(device)\n",
    "optimizer = optim.Adam(model.parameters(), lr=0.001)\n",
    "criterion = nn.CrossEntropyLoss()\n",
    "\n",
    "print(model)"
   ]
  },
  {
   "cell_type": "code",
   "execution_count": 0,
   "metadata": {
    "colab": {},
    "colab_type": "code",
    "id": "WOmTgX9j0-5x"
   },
   "outputs": [],
   "source": [
    "# function to train the model and return the loss\n",
    "def train(epoch, model, optimizer, criterion):\n",
    "    model.train()\n",
    "    epoch_loss = 0\n",
    "    \n",
    "    for x, y in train_loader:\n",
    "        \n",
    "        x = x.to(device)\n",
    "        y = y.to(device)\n",
    "        \n",
    "        optimizer.zero_grad()\n",
    "        \n",
    "        output = model(x)\n",
    "\n",
    "        loss = criterion(output, y)\n",
    "        epoch_loss += loss.data.item()\n",
    "        \n",
    "        loss.backward()\n",
    "        \n",
    "        optimizer.step()\n",
    "        \n",
    "    epoch_loss /= len(train_loader)\n",
    "    print(f'Train Epoch: {epoch}, Loss: {epoch_loss}')\n",
    "    return [epoch_loss]\n",
    "\n",
    "# function for validation, returns the loss\n",
    "def validate(epoch, model, criterion):\n",
    "    with torch.no_grad():\n",
    "        correct = 0\n",
    "        epoch_loss = 0\n",
    "\n",
    "        model.eval()\n",
    "\n",
    "        for x, y in val_loader:\n",
    "\n",
    "            x = x.to(device)\n",
    "            y = y.to(device)\n",
    "\n",
    "            y_pred = model(x)\n",
    "\n",
    "            loss = criterion(y_pred, y)\n",
    "            epoch_loss += loss.data.item()\n",
    "\n",
    "            y_pred = torch.max(y_pred, 1)[1]\n",
    "            correct += (y==y_pred).sum().item()\n",
    "\n",
    "        epoch_loss /= len(val_loader)\n",
    "        print(f'Validation Epoch: {epoch}, Loss: {epoch_loss}')\n",
    "        print('Score:',correct/len(y_val),'\\n')\n",
    "\n",
    "        return [epoch_loss]\n",
    "\n",
    "# evaluation of test set, accuracy, precision, recall and f1-score is printet\n",
    "def eval_test(model):\n",
    "    with torch.no_grad():\n",
    "        print('Test set:')\n",
    "        tp = 0\n",
    "        tn = 0\n",
    "        fp = 0\n",
    "        fn = 0\n",
    "\n",
    "        model.eval()\n",
    "\n",
    "        for x,y in test_loader:\n",
    "            x = x.to(device)\n",
    "            y = y.to(device)\n",
    "\n",
    "            y_pred = torch.max(model(x),1)[1]\n",
    "\n",
    "            for i,elm in enumerate(y_pred):\n",
    "                if y[i] == 1:\n",
    "                    if elm == 1: tp += 1\n",
    "                    else: fn += 1\n",
    "                else:\n",
    "                    if elm == 0: tn += 1\n",
    "                    else: fp += 1\n",
    "\n",
    "        precision = tp/(tp+fp)\n",
    "        recall = tp/(tp+fn)\n",
    "        print('Accuracy:',(tp+tn)/len(y_test))\n",
    "        print('Precison:',precision)\n",
    "        print('Recall:',recall)\n",
    "        print('F1-score:',2*(precision*recall)/(precision+recall))\n",
    "\n",
    "# plotting the learning curve based on loss\n",
    "def plot_learning_curve(title, loss_train, loss_val):\n",
    "    ax = sns.lineplot(list(range(1,1+epochs)), loss_train, color='C0')\n",
    "    ax= sns.lineplot(list(range(1,1+epochs)), loss_val, color='C1')\n",
    "    ax.set_title(title)\n",
    "    ax.legend(['train','validation'])\n",
    "    ax.set_ylabel('loss')\n",
    "    ax.set_xlabel('epochs')"
   ]
  },
  {
   "cell_type": "code",
   "execution_count": 13,
   "metadata": {
    "colab": {
     "base_uri": "https://localhost:8080/",
     "height": 357
    },
    "colab_type": "code",
    "id": "K4kR1Q730-8u",
    "outputId": "4a8e17c7-c729-482d-9115-e454c1abe5af"
   },
   "outputs": [
    {
     "name": "stdout",
     "output_type": "stream",
     "text": [
      "Train Epoch: 1, Loss: 0.5107744124518138\n",
      "Validation Epoch: 1, Loss: 0.4681214245538863\n",
      "Score: 0.8385 \n",
      "\n",
      "Train Epoch: 2, Loss: 0.45516450090767585\n",
      "Validation Epoch: 2, Loss: 0.45385943518744576\n",
      "Score: 0.850375 \n",
      "\n",
      "Train Epoch: 3, Loss: 0.434093070833106\n",
      "Validation Epoch: 3, Loss: 0.446579136545696\n",
      "Score: 0.858125 \n",
      "\n",
      "Train Epoch: 4, Loss: 0.42000738351040234\n",
      "Validation Epoch: 4, Loss: 0.44327900286704774\n",
      "Score: 0.860625 \n",
      "\n",
      "Train Epoch: 5, Loss: 0.40685777468224094\n",
      "Validation Epoch: 5, Loss: 0.4446796372769371\n",
      "Score: 0.859875 \n",
      "\n"
     ]
    }
   ],
   "source": [
    "# train and validate\n",
    "epochs = 5\n",
    "loss_train = []\n",
    "loss_val = []\n",
    "for epoch in range(1, epochs+1):\n",
    "    loss_train += train(epoch, model, optimizer, criterion)\n",
    "    loss_val += validate(epoch, model, criterion)"
   ]
  },
  {
   "cell_type": "code",
   "execution_count": 14,
   "metadata": {
    "colab": {
     "base_uri": "https://localhost:8080/",
     "height": 380
    },
    "colab_type": "code",
    "id": "qIKPt28N0-_l",
    "outputId": "3b1b5783-700e-42de-f3be-fe2a9bf21f0f"
   },
   "outputs": [
    {
     "name": "stdout",
     "output_type": "stream",
     "text": [
      "Test set:\n",
      "Accuracy: 0.8621875\n",
      "Precison: 0.9197764012690739\n",
      "Recall: 0.7843339345529503\n",
      "F1-score: 0.8466726931367777\n"
     ]
    },
    {
     "data": {
      "image/png": "[encoded data removed]",
      "text/plain": [
       "<Figure size 432x288 with 1 Axes>"
      ]
     },
     "metadata": {
      "needs_background": "light",
      "tags": []
     },
     "output_type": "display_data"
    }
   ],
   "source": [
    "# learning curve and evaluation on test set from own data set\n",
    "plot_learning_curve('Learning curve', loss_train, loss_val)\n",
    "\n",
    "eval_test(model)"
   ]
  },
  {
   "cell_type": "markdown",
   "metadata": {
    "colab_type": "text",
    "id": "RuA9uNoY-DJU"
   },
   "source": [
    "## Testing on liar dataset"
   ]
  },
  {
   "cell_type": "code",
   "execution_count": 0,
   "metadata": {
    "colab": {},
    "colab_type": "code",
    "id": "GrOmuNEgCLUQ"
   },
   "outputs": [],
   "source": [
    "# function to clean content field\n",
    "def clean_content(text):\n",
    "\n",
    "    # regular expression for dates\n",
    "    def re_date():\n",
    "        re_numdate = r'(?:\\d{1,4}(?:\\/\\d{1,2}\\/|-\\d{1,2}-)\\d{1,4})'\n",
    "        re_day = r'(?:\\d{1,2}(?:th|st|nd|rd|\\.)?)'\n",
    "        re_month = r'(?:jan(?:uary|\\.)?|feb(?:ruary|\\.)?|mar(?:ch|\\.)?|apr(?:il|\\.)?|may\\.?|jun(?:e|\\.)?' \\\n",
    "                   r'|jul(?:y|\\.)?|aug(?:ust|\\.)?|sept?(?:ember|\\.)?|oct(?:ober|\\.)?|nov(?:ember|\\.)?' \\\n",
    "                   r'|dec(?:ember|\\.)?)'\n",
    "        re_year = r'(?:[, ]*\\d{4})?'\n",
    "        reg = r'(' + re_numdate + \\\n",
    "              r'|(?:' + re_month + r'[, ]*' + re_day + re_year + r')' \\\n",
    "              r'|(?:(?:the)? ?' + re_day + r' (?:of)? ?' + re_month + re_year + r'))'   \n",
    "        return re.compile(reg)\n",
    "    \n",
    "    if pd.notnull(text):\n",
    "        re_whitespace = re.compile(r\"(\\s+)\")\n",
    "        re_urls = re.compile(r\"(?<=\\s)((?:https?://)?\\w+(?:\\.?\\w)*\\.(?:com|org|net|dk)(?:\\/[\\w/?.#=\\-+%]*)?)\")\n",
    "        re_email = re.compile(r\"(?<=\\s)(\\w(?:\\.?[\\w+\\-])*@\\w(?:[.\\-]?\\w)*)\")\n",
    "        re_date = re_date()\n",
    "        re_num = re.compile(r\"(\\d+(?:,\\d{3})*(?:\\.\\d+)?)\")\n",
    "\n",
    "        text = re_whitespace.sub(' ',text)\n",
    "        text = text.lower()\n",
    "        text = re_urls.sub('<URL>',text)\n",
    "        text = re_email.sub('<EMAIL>',text)\n",
    "        text = re_date.sub('<DATE>',text)\n",
    "        text = re_num.sub('<NUM>',text)\n",
    "\n",
    "        return text\n",
    "    else:\n",
    "        return None"
   ]
  },
  {
   "cell_type": "code",
   "execution_count": 0,
   "metadata": {
    "colab": {},
    "colab_type": "code",
    "id": "iZQswuS6CLXY"
   },
   "outputs": [],
   "source": [
    "# load liar dataset\n",
    "l1 = pd.read_csv('/content/drive/My Drive/liar_train.tsv',usecols=[1,2],sep='\\t',header=None,names=['label','content'])\n",
    "l2 = pd.read_csv('/content/drive/My Drive/liar_valid.tsv',usecols=[1,2],sep='\\t',header=None,names=['label','content'])\n",
    "l3 = pd.read_csv('/content/drive/My Drive/liar_test.tsv',usecols=[1,2],sep='\\t',header=None,names=['label','content'])\n",
    "liar = pd.concat([l1,l2,l3])\n",
    "\n",
    "# clean\n",
    "liar['content'] = liar['content'].apply(clean_content)\n",
    "liar['b_type'] = liar['label'].apply(lambda x: 1 if x in ['false','barely-true','pants-fire'] else 0)\n",
    "liar = liar.dropna()\n",
    "\n",
    "# tokenize liar set\n",
    "tokenized_liar = list()\n",
    "for text in liar['content']:\n",
    "    tokenized_liar.append(simple_preprocess(text, min_len=0))\n",
    "\n",
    "# convert words in liar dataset to integer id\n",
    "x_liar = [dictionary.doc2idx(text) for text in tokenized_liar]\n",
    "\n",
    "# truncate and pad each text\n",
    "x_liar = [text[:MAX_TEXT_LENGTH] for text in x_liar]\n",
    "x_liar = np.array([np.pad(text, (0, MAX_TEXT_LENGTH-len(text)), mode='constant',\n",
    "                        constant_values=-2) for text in x_liar], dtype=int)\n",
    "\n",
    "# add 2 so padding is 0 and unknown words is 1\n",
    "x_liar = x_liar + 2 \n",
    "\n",
    "y_liar = list(liar['b_type'])"
   ]
  },
  {
   "cell_type": "code",
   "execution_count": 22,
   "metadata": {
    "colab": {
     "base_uri": "https://localhost:8080/",
     "height": 102
    },
    "colab_type": "code",
    "id": "FrRDL4IzCLaB",
    "outputId": "eb844c6c-c5e4-4020-9f36-15f69937ddc9"
   },
   "outputs": [
    {
     "name": "stdout",
     "output_type": "stream",
     "text": [
      "Test set:\n",
      "Accuracy: 0.4436875\n",
      "Precison: 0.4887459807073955\n",
      "Recall: 0.13434682694007424\n",
      "F1-score: 0.2107598447032723\n"
     ]
    }
   ],
   "source": [
    "# prepare data for network and evaluation\n",
    "test_dataset = TensorDataset(torch.LongTensor(x_liar),\n",
    "                             torch.LongTensor(y_liar))\n",
    "test_loader = DataLoader(test_dataset, batch_size=batch_size, shuffle=False, num_workers=4)\n",
    "eval_test(model)"
   ]
  },
  {
   "cell_type": "code",
   "execution_count": null,
   "metadata": {},
   "outputs": [],
   "source": []
  }
 ],
 "metadata": {
  "accelerator": "GPU",
  "colab": {
   "collapsed_sections": [],
   "name": "3_2_cnn_fake_news.ipynb",
   "provenance": []
  },
  "kernelspec": {
   "display_name": "Python 3",
   "language": "python",
   "name": "python3"
  },
  "language_info": {
   "codemirror_mode": {
    "name": "ipython",
    "version": 3
   },
   "file_extension": ".py",
   "mimetype": "text/x-python",
   "name": "python",
   "nbconvert_exporter": "python",
   "pygments_lexer": "ipython3",
   "version": "3.7.6"
  }
 },
 "nbformat": 4,
 "nbformat_minor": 1
}
