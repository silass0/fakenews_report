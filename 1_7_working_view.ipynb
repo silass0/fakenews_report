{
 "cells": [
  {
   "cell_type": "markdown",
   "metadata": {},
   "source": [
    "# 1.7 Illustration of working view\n"
   ]
  },
  {
   "cell_type": "code",
   "execution_count": 12,
   "metadata": {},
   "outputs": [],
   "source": [
    "import psycopg2 #To connect and use PostgreSQL on the FakeNewsCorpus-database.\n",
    "#Function for queries with database\n",
    "def execQuery(query,*printOption):\n",
    "    try:\n",
    "        connection = psycopg2.connect(user = \"postgres\",\n",
    "                                      password = \"\",\n",
    "                                      host = \"localhost\",\n",
    "                                      port = \"5432\",\n",
    "                                      database = \"postgres\")\n",
    "        cursor = connection.cursor()\n",
    "        cursor.execute(query)\n",
    "        record = cursor.fetchall()\n",
    "        return record\n",
    "    except (Exception, psycopg2.Error) as error :\n",
    "        connection = False\n",
    "        print (\"Error while connecting to PostgreSQL:\", error)\n",
    "    finally:\n",
    "        if(connection):\n",
    "            cursor.close()\n",
    "            connection.close()\n",
    "            if not printOption:\n",
    "                print(\"Executed query and closed connection.\")"
   ]
  },
  {
   "cell_type": "code",
   "execution_count": 13,
   "metadata": {},
   "outputs": [
    {
     "name": "stdout",
     "output_type": "stream",
     "text": [
      "Executed query and closed connection.\n"
     ]
    },
    {
     "data": {
      "text/plain": [
       "1007408"
      ]
     },
     "execution_count": 13,
     "metadata": {},
     "output_type": "execute_result"
    }
   ],
   "source": [
    "numOfArticlesInView = execQuery(\"\"\"\n",
    "SELECT COUNT(*) \n",
    "FROM c.article_view\n",
    "\"\"\")[0][0]\n",
    "\n",
    "numOfArticlesInView"
   ]
  },
  {
   "cell_type": "code",
   "execution_count": 14,
   "metadata": {},
   "outputs": [
    {
     "name": "stdout",
     "output_type": "stream",
     "text": [
      "Executed query and closed connection.\n"
     ]
    },
    {
     "data": {
      "text/plain": [
       "[('bias', 84),\n",
       " ('clickbait', 2),\n",
       " ('conspiracy', 233),\n",
       " ('fake', 2),\n",
       " ('junksci', 33),\n",
       " ('political', 349),\n",
       " ('satire', 20),\n",
       " ('unreliable', 1),\n",
       " (None, 0)]"
      ]
     },
     "execution_count": 14,
     "metadata": {},
     "output_type": "execute_result"
    }
   ],
   "source": [
    "realisticQueryUsingSeveralThings = execQuery(\"\"\"\n",
    "SELECT DISTINCT c.article_view.type, COUNT(c.article_view.type)\n",
    "FROM c.article_view\n",
    "    INNER JOIN c.keywords_view ON (c.article_view.article_id=c.keywords_view.article_id)\n",
    "    INNER JOIN c.keyword_view ON (c.keyword_view.keyword_id=c.keywords_view.keyword_id)\n",
    "WHERE c.keyword_view.value='trump'\n",
    "GROUP BY c.article_view.type;\n",
    "\"\"\")\n",
    "realisticQueryUsingSeveralThings #Are articles about Trump fake news?"
   ]
  },
  {
   "cell_type": "code",
   "execution_count": 17,
   "metadata": {},
   "outputs": [
    {
     "name": "stdout",
     "output_type": "stream",
     "text": [
      "Executed query and closed connection.\n"
     ]
    },
    {
     "data": {
      "text/plain": [
       "[(2,\n",
       "  'https://www.express.co.uk/news/science/738402/life-an-ILLUSION-reality-does-not-exist-if-you-are-not-looking-at-it',\n",
       "  'life is an illusion, at least on a quantum level, in a theory which has recently been confirmed by a set of researchers. they finally have the means to test john wheeler’s delayed-choice theory and concluded that the physicist was right. in <NUM>, mr wheeler’s proposed experiment involved a moving object that was given the choice to act like a wave or a particle – the former acting as a vibration with a frequency that can distinguish it from other waves and the latter having no frequency that you can determine its position in space, unlike a wave – and at what point does it ‘decide’ to act like one or the other. at the time, the technology was not available to conduct a strong experiment, but scientists have now been able to carry it out.',\n",
       "  \"is life an illusion? researchers prove 'reality doesn't exist if you're not looking at it'\",\n",
       "  'express.co.uk',\n",
       "  'rumor',\n",
       "  None,\n",
       "  '(0,\"2018-01-25 16:17:44.789555\")',\n",
       "  '(2,\"2018-02-02 01:19:41.756632\")',\n",
       "  '(3,\"2018-02-02 01:19:41.756664\")'),\n",
       " (6,\n",
       "  'http://barenakedislam.com/category/donald-trump/page/43/',\n",
       "  'unfortunately, he hasn’t yet attacked her for islamic terrorism-connections, but we know he will. below are several links that explain in detail why having huma abedin anywhere near the white house would be like inviting in the terrorism-linked muslim brotherhood, which has been banned in egypt and the uae. bni readers, please forward the damning […]',\n",
       "  'donald trump',\n",
       "  'barenakedislam.com',\n",
       "  'hate',\n",
       "  None,\n",
       "  '(0,\"2018-01-25 16:17:44.789555\")',\n",
       "  '(2,\"2018-02-02 01:19:41.756632\")',\n",
       "  '(3,\"2018-02-02 01:19:41.756664\")'),\n",
       " (7,\n",
       "  'http://barenakedislam.com/category/donald-trump/page/2/',\n",
       "  'the los angeles police department has been denied $<NUM> million in federal aid for law enforcement. while there is no official announcement as to why, it is more than likely that it has everything to do with la’s “sanctuary city” status for harboring illegal aliens. donald trump and attorney general jeff sessions have repeatedly said […]',\n",
       "  'donald trump',\n",
       "  'barenakedislam.com',\n",
       "  'hate',\n",
       "  None,\n",
       "  '(0,\"2018-01-25 16:17:44.789555\")',\n",
       "  '(2,\"2018-02-02 01:19:41.756632\")',\n",
       "  '(3,\"2018-02-02 01:19:41.756664\")'),\n",
       " (8,\n",
       "  'http://barenakedislam.com/2017/12/24/more-winning-israeli-intelligence-source-debkafile-confirms-the-trump-administration-to-cut-off-ties-with-the-palestinians-which-means-no-peace-plan-no-more-financial-aid/',\n",
       "  'the white house has decided to quietly withdraw from all its ties with the ramallah-based palestinian authority and mahmoud abbas. debka (h/t marvin w) debkafile’s exclusive sources report that the trump administration has resolved to scrap all ties with the palestinian leadership in retaliation for its campaign against us president donald trump and his jerusalem policy. several warnings to mahmoud abbas (aka abu mazen) of what was in store if he did not desist from castigating the us president fell on death ears. last week, two arab crown princes, saudi muhammed bin salman and uae sheikh muhammed bin zayed, summoned abbas to their capitals and urged him strongly to back away from his attacks on president trump. he got the same advice from the ruler of qatar, sheikh tamim al thani, who conferred with washington on the subject – all to no avail. the trump administration has therefore set out an eight-point program of sanctions, first revealed here: the israeli-palestinian peace plan under preparation in washington will not be submitted to ramallah – only to israel and the relevant arab governments. us-palestinian interaction is to be suspended – not just at the senior levels but in day-to-day interchanges. the administration has notified palestinian and other arab parties to stop addressing queries on political and economic matters to the us consulate in jerusalem, because they will not receive answers. the status of the plo office in washington will be reevaluated with a view to shutting it down. palestinian officials will no longer be invited to washington by the us government, including the state department and department of treasury. above all, they will not be welcome at the white house or the national security council where us middle east policy is designed. senior us officials congratulated the senior palestinian negotiator saab erekat, who also holds the pa’s american portfolio, on his recovery from illness, at the same time warning him that he would no longer be received at the white house. the trump administration will not make any public announcement of the cutoff of financial aid to the palestinians. since the funds are mostly earmarked for specific economic projects, each allocation will simply be held back on the pretext of the need for a “reappraisal.” the us will halt its contributions to the un work and relief organization, an estimated one billion dollars per annum. the us administration moreover intervened with the governments of saudi arabia, abu dhabi and qatar with a request that they freeze or slow their economic aid to the palestinian authority. according debkafile’s sources, palestinian officials in ramallah were devastated by news of the sudden cutoff of the main sources of the pa’s revenue. even the qatar ruler, whom abbas visited last week as a last resort to save the pa from economic meltdown, refused to release any more funding.',\n",
       "  'more winning! israeli intelligence source, debkafile, confirms the trump administration to cut off ties with the palestinians, which means no peace plan, no more financial aid',\n",
       "  'barenakedislam.com',\n",
       "  'hate',\n",
       "  None,\n",
       "  '(0,\"2018-01-25 16:17:44.789555\")',\n",
       "  '(2,\"2018-02-02 01:19:41.756632\")',\n",
       "  '(3,\"2018-02-02 01:19:41.756664\")'),\n",
       " (9,\n",
       "  'http://barenakedislam.com/2017/12/25/oh-trump-you-coward-you-just-wait-we-will-dig-your-grave-by-means-of-the-islamic-caliphate/',\n",
       "  '“the time has come to cut off the tongues of those who support peace and those who mourn it.” (can’t disagree there, arab muslims occupying israel will never live in peace with the native population – the jews).',\n",
       "  '“oh, trump, you coward, you just wait, we will dig your grave by means of the islamic caliphate”',\n",
       "  'barenakedislam.com',\n",
       "  'hate',\n",
       "  None,\n",
       "  '(0,\"2018-01-25 16:17:44.789555\")',\n",
       "  '(2,\"2018-02-02 01:19:41.756632\")',\n",
       "  '(3,\"2018-02-02 01:19:41.756664\")')]"
      ]
     },
     "execution_count": 17,
     "metadata": {},
     "output_type": "execute_result"
    }
   ],
   "source": [
    "execQuery(\"\"\"SELECT * \n",
    "FROM c.article_view\n",
    "LIMIT 5;\"\"\")"
   ]
  },
  {
   "cell_type": "code",
   "execution_count": null,
   "metadata": {},
   "outputs": [],
   "source": []
  }
 ],
 "metadata": {
  "kernelspec": {
   "display_name": "Python 3",
   "language": "python",
   "name": "python3"
  },
  "language_info": {
   "codemirror_mode": {
    "name": "ipython",
    "version": 3
   },
   "file_extension": ".py",
   "mimetype": "text/x-python",
   "name": "python",
   "nbconvert_exporter": "python",
   "pygments_lexer": "ipython3",
   "version": "3.7.4"
  }
 },
 "nbformat": 4,
 "nbformat_minor": 2
}
