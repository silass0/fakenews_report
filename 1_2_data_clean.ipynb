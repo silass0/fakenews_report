{
 "cells": [
  {
   "cell_type": "markdown",
   "metadata": {},
   "source": [
    "## Cleaning Data\n",
    "The file '1mio-raw.csv' is the raw dataset to be cleaned.\n",
    "The file '1mio-clean.csv' is the cleaned dataset (though still containing duplicate rows).\n",
    "The function \"clean_content\" is defined for cleaning the article contents, meaning purely the text data. \n",
    "This function is applied in chunks along the cleaning of certain parts of the meta-data."
   ]
  },
  {
   "cell_type": "code",
   "execution_count": 1,
   "metadata": {},
   "outputs": [],
   "source": [
    "#import modules\n",
    "import pandas as pd\n",
    "import numpy as np\n",
    "import re"
   ]
  },
  {
   "cell_type": "code",
   "execution_count": 2,
   "metadata": {},
   "outputs": [],
   "source": [
    "in_filepath = '~/Documents/DataScience Notebooks/csv/1mio-raw.csv'\n",
    "out_filepath = '~/Documents/DataScience Notebooks/csv/1mio-clean.csv'"
   ]
  },
  {
   "cell_type": "code",
   "execution_count": 3,
   "metadata": {},
   "outputs": [],
   "source": [
    "# function to clean content field\n",
    "def clean_content(text):\n",
    "\n",
    "    # regular expression for dates\n",
    "    def re_date():\n",
    "        re_numdate = r'(?:\\d{1,4}(?:\\/\\d{1,2}\\/|-\\d{1,2}-)\\d{1,4})'\n",
    "        re_day = r'(?:\\d{1,2}(?:th|st|nd|rd|\\.)?)'\n",
    "        re_month = r'(?:jan(?:uary|\\.)?|feb(?:ruary|\\.)?|mar(?:ch|\\.)?|apr(?:il|\\.)?|may\\.?|jun(?:e|\\.)?' \\\n",
    "                   r'|jul(?:y|\\.)?|aug(?:ust|\\.)?|sept?(?:ember|\\.)?|oct(?:ober|\\.)?|nov(?:ember|\\.)?' \\\n",
    "                   r'|dec(?:ember|\\.)?)'\n",
    "        re_year = r'(?:[, ]*\\d{4})?'\n",
    "        reg = r'(' + re_numdate + \\\n",
    "              r'|(?:' + re_month + r'[, ]*' + re_day + re_year + r')' \\\n",
    "              r'|(?:(?:the)? ?' + re_day + r' (?:of)? ?' + re_month + re_year + r'))'   \n",
    "        return re.compile(reg)\n",
    "    \n",
    "    if pd.notnull(text):\n",
    "        re_whitespace = re.compile(r\"(\\s+)\")\n",
    "        re_urls = re.compile(r\"(?<=\\s)((?:https?://)?\\w+(?:\\.?\\w)*\\.(?:com|org|net|dk)(?:\\/[\\w/?.#=\\-+%]*)?)\")\n",
    "        re_email = re.compile(r\"(?<=\\s)(\\w(?:\\.?[\\w+\\-])*@\\w(?:[.\\-]?\\w)*)\")\n",
    "        re_date = re_date()\n",
    "        re_num = re.compile(r\"(\\d+(?:,\\d{3})*(?:\\.\\d+)?)\")\n",
    "\n",
    "        text = re_whitespace.sub(' ',text)\n",
    "        text = text.lower()\n",
    "        text = re_urls.sub('<URL>',text)\n",
    "        text = re_email.sub('<EMAIL>',text)\n",
    "        text = re_date.sub('<DATE>',text)\n",
    "        text = re_num.sub('<NUM>',text)\n",
    "\n",
    "        return text\n",
    "    else:\n",
    "        return None\n",
    "    \n",
    "# string to list\n",
    "def makelist(x): return x.lower().split(', ') if pd.notnull(x) else None\n",
    "\n",
    "# lower text\n",
    "def low(x): return x.lower() if pd.notnull(x) else None"
   ]
  },
  {
   "cell_type": "code",
   "execution_count": 4,
   "metadata": {},
   "outputs": [],
   "source": [
    "# load data\n",
    "reader = pd.read_csv(in_filepath, dtype={'id':'str'}, chunksize=10000)\n",
    "b = True\n",
    "\n",
    "# clean data\n",
    "for df in reader:\n",
    "    #filter out rows where id is null or not a digit (int)\n",
    "    df = df.drop(df.loc[df['id'].map(lambda x: not str.isdigit(x) if pd.notnull(x) else True)].index)\n",
    "    \n",
    "    # set invalid values for authors to None\n",
    "    invalid_name = 'Backgroundurl Avatar_Large, Nickname, Joined, Created_At, Story Count, N_Stories, Comment Count, N_Comments, Popular Tags, Showtags Popular_Tags'\n",
    "    df.loc[(df['authors'] == invalid_name) | (df['authors'] == 'Posted On'), ['authors']] = None\n",
    "\n",
    "    # set invalid values for tags to None\n",
    "    df.loc[(df['tags'] == 'View Tags') | (df['tags'] == 'Next') | (df['tags'] == '(Load)'), ['tags']] = None \n",
    "\n",
    "    # lower title, meta_description, meta_keywords\n",
    "    df['title'] = df['title'].apply(low)\n",
    "    df['meta_description'] = df['meta_description'].apply(low)\n",
    "    df['meta_keywords'] = df['meta_keywords'].apply(low)\n",
    "    \n",
    "    # clean null-values in meta_keywords\n",
    "    df.loc[df['meta_keywords'] == \"['']\", ['meta_keywords']] = None \n",
    "    \n",
    "    # convert strings to lists\n",
    "    df['authors'] = df['authors'].apply(makelist)\n",
    "    df['tags'] = df['tags'].apply(makelist)\n",
    "    \n",
    "    # clean content\n",
    "    df['content'] = df['content'].apply(clean_content)\n",
    "    \n",
    "    # clean types\n",
    "    df['type'] = df['type'].apply(lambda x: None if x=='unknown' or pd.isnull(x) or x=='' else x)\n",
    "    \n",
    "    if b:\n",
    "        # write header\n",
    "        df.to_csv(out_filepath, index=False, mode='w')\n",
    "        b = False\n",
    "    else:\n",
    "        df.to_csv(out_filepath, index=False, header=False, mode='a')"
   ]
  },
  {
   "cell_type": "markdown",
   "metadata": {},
   "source": [
    "## Visualizing duplicate rows\n",
    "The cleaned dataset '1mio-clean.csv' contains duplicate rows that should be removed before the dataset can be used to train a model."
   ]
  },
  {
   "cell_type": "code",
   "execution_count": 5,
   "metadata": {},
   "outputs": [],
   "source": [
    "#import modules\n",
    "import matplotlib.pyplot as plt\n",
    "import seaborn as sns"
   ]
  },
  {
   "cell_type": "code",
   "execution_count": 6,
   "metadata": {},
   "outputs": [],
   "source": [
    "#load clean data (column 3: type, column 5: content)\n",
    "df = pd.read_csv(out_filepath,usecols=[3,5]) \n",
    "#drop null-types\n",
    "df = df.dropna()\n",
    "#map to binary classes\n",
    "df['b_type'] = df['type'].apply(lambda x: 'FAKE' if x in ['fake','satire','bias','conspiracy','junksci'] else 'REAL')\n",
    "#new df\n",
    "df2 = df.drop_duplicates()"
   ]
  },
  {
   "cell_type": "code",
   "execution_count": 7,
   "metadata": {},
   "outputs": [
    {
     "data": {
      "text/html": [
       "<div>\n",
       "<style scoped>\n",
       "    .dataframe tbody tr th:only-of-type {\n",
       "        vertical-align: middle;\n",
       "    }\n",
       "\n",
       "    .dataframe tbody tr th {\n",
       "        vertical-align: top;\n",
       "    }\n",
       "\n",
       "    .dataframe thead th {\n",
       "        text-align: right;\n",
       "    }\n",
       "</style>\n",
       "<table border=\"1\" class=\"dataframe\">\n",
       "  <thead>\n",
       "    <tr style=\"text-align: right;\">\n",
       "      <th></th>\n",
       "      <th>type</th>\n",
       "      <th>content</th>\n",
       "      <th>b_type</th>\n",
       "    </tr>\n",
       "  </thead>\n",
       "  <tbody>\n",
       "    <tr>\n",
       "      <td>0</td>\n",
       "      <td>rumor</td>\n",
       "      <td>life is an illusion, at least on a quantum lev...</td>\n",
       "      <td>REAL</td>\n",
       "    </tr>\n",
       "    <tr>\n",
       "      <td>1</td>\n",
       "      <td>hate</td>\n",
       "      <td>unfortunately, he hasn’t yet attacked her for ...</td>\n",
       "      <td>REAL</td>\n",
       "    </tr>\n",
       "    <tr>\n",
       "      <td>2</td>\n",
       "      <td>hate</td>\n",
       "      <td>the los angeles police department has been den...</td>\n",
       "      <td>REAL</td>\n",
       "    </tr>\n",
       "    <tr>\n",
       "      <td>3</td>\n",
       "      <td>hate</td>\n",
       "      <td>the white house has decided to quietly withdra...</td>\n",
       "      <td>REAL</td>\n",
       "    </tr>\n",
       "    <tr>\n",
       "      <td>4</td>\n",
       "      <td>hate</td>\n",
       "      <td>“the time has come to cut off the tongues of t...</td>\n",
       "      <td>REAL</td>\n",
       "    </tr>\n",
       "    <tr>\n",
       "      <td>...</td>\n",
       "      <td>...</td>\n",
       "      <td>...</td>\n",
       "      <td>...</td>\n",
       "    </tr>\n",
       "    <tr>\n",
       "      <td>999929</td>\n",
       "      <td>unreliable</td>\n",
       "      <td>tor tor is an encrypted anonymising network th...</td>\n",
       "      <td>REAL</td>\n",
       "    </tr>\n",
       "    <tr>\n",
       "      <td>999930</td>\n",
       "      <td>unreliable</td>\n",
       "      <td>tor tor is an encrypted anonymising network th...</td>\n",
       "      <td>REAL</td>\n",
       "    </tr>\n",
       "    <tr>\n",
       "      <td>999931</td>\n",
       "      <td>unreliable</td>\n",
       "      <td>tor tor is an encrypted anonymising network th...</td>\n",
       "      <td>REAL</td>\n",
       "    </tr>\n",
       "    <tr>\n",
       "      <td>999932</td>\n",
       "      <td>unreliable</td>\n",
       "      <td>tor tor is an encrypted anonymising network th...</td>\n",
       "      <td>REAL</td>\n",
       "    </tr>\n",
       "    <tr>\n",
       "      <td>999933</td>\n",
       "      <td>unreliable</td>\n",
       "      <td>tor tor is an encrypted anonymising network th...</td>\n",
       "      <td>REAL</td>\n",
       "    </tr>\n",
       "  </tbody>\n",
       "</table>\n",
       "<p>911521 rows × 3 columns</p>\n",
       "</div>"
      ],
      "text/plain": [
       "              type                                            content b_type\n",
       "0            rumor  life is an illusion, at least on a quantum lev...   REAL\n",
       "1             hate  unfortunately, he hasn’t yet attacked her for ...   REAL\n",
       "2             hate  the los angeles police department has been den...   REAL\n",
       "3             hate  the white house has decided to quietly withdra...   REAL\n",
       "4             hate  “the time has come to cut off the tongues of t...   REAL\n",
       "...            ...                                                ...    ...\n",
       "999929  unreliable  tor tor is an encrypted anonymising network th...   REAL\n",
       "999930  unreliable  tor tor is an encrypted anonymising network th...   REAL\n",
       "999931  unreliable  tor tor is an encrypted anonymising network th...   REAL\n",
       "999932  unreliable  tor tor is an encrypted anonymising network th...   REAL\n",
       "999933  unreliable  tor tor is an encrypted anonymising network th...   REAL\n",
       "\n",
       "[911521 rows x 3 columns]"
      ]
     },
     "execution_count": 7,
     "metadata": {},
     "output_type": "execute_result"
    }
   ],
   "source": [
    "#initial df\n",
    "df"
   ]
  },
  {
   "cell_type": "code",
   "execution_count": 8,
   "metadata": {},
   "outputs": [
    {
     "data": {
      "text/plain": [
       "True"
      ]
     },
     "execution_count": 8,
     "metadata": {},
     "output_type": "execute_result"
    }
   ],
   "source": [
    "#demonstrate that content is the same\n",
    "df.iloc[-1]['content'] == df.iloc[-2]['content']"
   ]
  },
  {
   "cell_type": "code",
   "execution_count": 9,
   "metadata": {},
   "outputs": [
    {
     "data": {
      "image/png": "[encoded data removed]",
      "text/plain": [
       "<Figure size 1152x432 with 2 Axes>"
      ]
     },
     "metadata": {
      "needs_background": "light"
     },
     "output_type": "display_data"
    }
   ],
   "source": [
    "#histogram of dataset by type before and after duplicate removal\n",
    "fig, axes = plt.subplots(ncols=2, figsize=(16,6))\n",
    "x = df.type.value_counts(sort=True)\n",
    "x2 = df2.type.value_counts()\n",
    "x_dict = {e:i for i,e in enumerate(x)}\n",
    "x2_dict = {e:i for i,e in enumerate(x2)}\n",
    "x2 = sorted(x2, key=lambda z: x[x2.index[x2_dict[z]]], reverse=True)\n",
    "sns.barplot(x, x.index, ax=axes[0])\n",
    "sns.barplot(x2, x.index, ax=axes[1])\n",
    "axes[0].set_xlabel('number of articles')\n",
    "axes[1].set_xlabel('number of articles')\n",
    "pass"
   ]
  },
  {
   "cell_type": "code",
   "execution_count": 10,
   "metadata": {},
   "outputs": [
    {
     "data": {
      "image/png": "[encoded data removed]",
      "text/plain": [
       "<Figure size 576x432 with 1 Axes>"
      ]
     },
     "metadata": {
      "needs_background": "light"
     },
     "output_type": "display_data"
    }
   ],
   "source": [
    "#demonstrating how large a fraction is removed (by type)\n",
    "x3 = x-x2\n",
    "plt.figure(figsize=(8,6))\n",
    "sns.barplot(np.divide(x3,x), x.index)\n",
    "plt.gca().set_xlabel('duplicate fraction')\n",
    "pass"
   ]
  },
  {
   "cell_type": "code",
   "execution_count": 11,
   "metadata": {},
   "outputs": [
    {
     "name": "stdout",
     "output_type": "stream",
     "text": [
      "duplicates: 35.61289317525323 %\n"
     ]
    }
   ],
   "source": [
    "#overall percentage dropped\n",
    "print(f\"duplicates: {(len(df)-len(df2))/len(df)*100} %\")"
   ]
  },
  {
   "cell_type": "code",
   "execution_count": 12,
   "metadata": {},
   "outputs": [
    {
     "name": "stdout",
     "output_type": "stream",
     "text": [
      "With duplicates:\n",
      "         label  quantity    percent\n",
      "0    political    289666  31.778313\n",
      "1   unreliable    141614  15.536011\n",
      "2         bias    136381  14.961915\n",
      "3         fake    123929  13.595847\n",
      "4   conspiracy    109793  12.045032\n",
      "5        rumor     46524   5.103997\n",
      "6    clickbait     21723   2.383160\n",
      "7      junksci     17408   1.909775\n",
      "8       satire     14263   1.564747\n",
      "9     reliable      6601   0.724174\n",
      "10        hate      3619   0.397029\n",
      "\n",
      "Without duplicates:\n",
      "         label  quantity    percent\n",
      "0    political    203020  34.591806\n",
      "1   unreliable     32512   5.539596\n",
      "2         bias     93109  15.864488\n",
      "3         fake    110046  18.750319\n",
      "4   conspiracy     57463   9.790902\n",
      "5        rumor     44097   7.513520\n",
      "6    clickbait     19328   3.293224\n",
      "7      junksci     11478   1.955693\n",
      "8       satire      7514   1.280282\n",
      "9     reliable      5222   0.889757\n",
      "10        hate      3113   0.530412\n",
      "\n",
      "Difference:\n",
      "         label  quantity    percent\n",
      "0    political     86646  29.912382\n",
      "1   unreliable    109102  77.041818\n",
      "2         bias     43272  31.728760\n",
      "3         fake     13883  11.202382\n",
      "4   conspiracy     52330  47.662419\n",
      "5        rumor      2427   5.216662\n",
      "6    clickbait      2395  11.025181\n",
      "7      junksci      5930  34.064798\n",
      "8       satire      6749  47.318236\n",
      "9     reliable      1379  20.890774\n",
      "10        hate       506  13.981763\n"
     ]
    }
   ],
   "source": [
    "#tables\n",
    "print('With duplicates:')\n",
    "print(pd.DataFrame({'label':x.index,'quantity':x.values,'percent':x.values/sum(x)*100}))\n",
    "print('\\nWithout duplicates:')\n",
    "print(pd.DataFrame({'label':x.index,'quantity':x2,'percent':np.array(x2)/sum(x2)*100}))\n",
    "print('\\nDifference:')\n",
    "print(pd.DataFrame({'label':x.index,'quantity':x3.values,'percent':np.divide(x3,x).values*100}))"
   ]
  },
  {
   "cell_type": "markdown",
   "metadata": {},
   "source": [
    "## Detecting Russian articles"
   ]
  },
  {
   "cell_type": "code",
   "execution_count": 13,
   "metadata": {},
   "outputs": [
    {
     "data": {
      "text/html": [
       "<div>\n",
       "<style scoped>\n",
       "    .dataframe tbody tr th:only-of-type {\n",
       "        vertical-align: middle;\n",
       "    }\n",
       "\n",
       "    .dataframe tbody tr th {\n",
       "        vertical-align: top;\n",
       "    }\n",
       "\n",
       "    .dataframe thead th {\n",
       "        text-align: right;\n",
       "    }\n",
       "</style>\n",
       "<table border=\"1\" class=\"dataframe\">\n",
       "  <thead>\n",
       "    <tr style=\"text-align: right;\">\n",
       "      <th></th>\n",
       "      <th>type</th>\n",
       "      <th>content</th>\n",
       "      <th>b_type</th>\n",
       "    </tr>\n",
       "  </thead>\n",
       "  <tbody>\n",
       "    <tr>\n",
       "      <td>111436</td>\n",
       "      <td>bias</td>\n",
       "      <td>александра зиновьева, философа, социолога и ло...</td>\n",
       "      <td>FAKE</td>\n",
       "    </tr>\n",
       "    <tr>\n",
       "      <td>111440</td>\n",
       "      <td>bias</td>\n",
       "      <td>автор статьи - датская журналистка и теолог ни...</td>\n",
       "      <td>FAKE</td>\n",
       "    </tr>\n",
       "    <tr>\n",
       "      <td>111449</td>\n",
       "      <td>bias</td>\n",
       "      <td>президент чехии обрушился с градом критики на ...</td>\n",
       "      <td>FAKE</td>\n",
       "    </tr>\n",
       "    <tr>\n",
       "      <td>111678</td>\n",
       "      <td>bias</td>\n",
       "      <td>глобальный полицейский заблуждается, если дума...</td>\n",
       "      <td>FAKE</td>\n",
       "    </tr>\n",
       "    <tr>\n",
       "      <td>111679</td>\n",
       "      <td>bias</td>\n",
       "      <td>на этой неделе несколько высокопоставленных ва...</td>\n",
       "      <td>FAKE</td>\n",
       "    </tr>\n",
       "    <tr>\n",
       "      <td>...</td>\n",
       "      <td>...</td>\n",
       "      <td>...</td>\n",
       "      <td>...</td>\n",
       "    </tr>\n",
       "    <tr>\n",
       "      <td>919341</td>\n",
       "      <td>bias</td>\n",
       "      <td>россия и эстония взяли курс на улучшение отнош...</td>\n",
       "      <td>FAKE</td>\n",
       "    </tr>\n",
       "    <tr>\n",
       "      <td>919445</td>\n",
       "      <td>bias</td>\n",
       "      <td>крупная кража на криптовалютном рынке: все дел...</td>\n",
       "      <td>FAKE</td>\n",
       "    </tr>\n",
       "    <tr>\n",
       "      <td>919446</td>\n",
       "      <td>bias</td>\n",
       "      <td>украина опоздала с крымом украина могла бы пом...</td>\n",
       "      <td>FAKE</td>\n",
       "    </tr>\n",
       "    <tr>\n",
       "      <td>919463</td>\n",
       "      <td>bias</td>\n",
       "      <td>вчера в &lt;NUM&gt;:&lt;NUM&gt; крупнейшая площадка торгов...</td>\n",
       "      <td>FAKE</td>\n",
       "    </tr>\n",
       "    <tr>\n",
       "      <td>919465</td>\n",
       "      <td>bias</td>\n",
       "      <td>сми: всемирный еврейский конгресс признал крым...</td>\n",
       "      <td>FAKE</td>\n",
       "    </tr>\n",
       "  </tbody>\n",
       "</table>\n",
       "<p>4411 rows × 3 columns</p>\n",
       "</div>"
      ],
      "text/plain": [
       "        type                                            content b_type\n",
       "111436  bias  александра зиновьева, философа, социолога и ло...   FAKE\n",
       "111440  bias  автор статьи - датская журналистка и теолог ни...   FAKE\n",
       "111449  bias  президент чехии обрушился с градом критики на ...   FAKE\n",
       "111678  bias  глобальный полицейский заблуждается, если дума...   FAKE\n",
       "111679  bias  на этой неделе несколько высокопоставленных ва...   FAKE\n",
       "...      ...                                                ...    ...\n",
       "919341  bias  россия и эстония взяли курс на улучшение отнош...   FAKE\n",
       "919445  bias  крупная кража на криптовалютном рынке: все дел...   FAKE\n",
       "919446  bias  украина опоздала с крымом украина могла бы пом...   FAKE\n",
       "919463  bias  вчера в <NUM>:<NUM> крупнейшая площадка торгов...   FAKE\n",
       "919465  bias  сми: всемирный еврейский конгресс признал крым...   FAKE\n",
       "\n",
       "[4411 rows x 3 columns]"
      ]
     },
     "execution_count": 13,
     "metadata": {},
     "output_type": "execute_result"
    }
   ],
   "source": [
    "#finding Russian articles\n",
    "df_r = df[df['content'].str.match('[а-яА-Я]')].copy()\n",
    "df_r"
   ]
  },
  {
   "cell_type": "code",
   "execution_count": 14,
   "metadata": {},
   "outputs": [],
   "source": [
    "#counting character occurences\n",
    "df_r['count'] = df_r['content'].apply(lambda x: len(re.findall(r\"([а-яА-Я])\",x)))"
   ]
  },
  {
   "cell_type": "code",
   "execution_count": 15,
   "metadata": {},
   "outputs": [
    {
     "data": {
      "image/png": "[encoded data removed]",
      "text/plain": [
       "<Figure size 1152x288 with 1 Axes>"
      ]
     },
     "metadata": {
      "needs_background": "light"
     },
     "output_type": "display_data"
    }
   ],
   "source": [
    "fig, axes = plt.subplots(figsize=(16,4))   \n",
    "\n",
    "plt.xlabel('Russian character count')\n",
    "\n",
    "n, bins, patches = plt.hist(df_r['count'], 200,  \n",
    "                            density = 1, range =[0,7500])\n"
   ]
  },
  {
   "cell_type": "markdown",
   "metadata": {},
   "source": [
    "Most of the articles detected contain a fairly large amount of non-English characters. They can be removed with reduced fear of loss of relevant data."
   ]
  },
  {
   "cell_type": "markdown",
   "metadata": {},
   "source": [
    "## Detecting Greek articles "
   ]
  },
  {
   "cell_type": "code",
   "execution_count": 16,
   "metadata": {},
   "outputs": [
    {
     "data": {
      "text/html": [
       "<div>\n",
       "<style scoped>\n",
       "    .dataframe tbody tr th:only-of-type {\n",
       "        vertical-align: middle;\n",
       "    }\n",
       "\n",
       "    .dataframe tbody tr th {\n",
       "        vertical-align: top;\n",
       "    }\n",
       "\n",
       "    .dataframe thead th {\n",
       "        text-align: right;\n",
       "    }\n",
       "</style>\n",
       "<table border=\"1\" class=\"dataframe\">\n",
       "  <thead>\n",
       "    <tr style=\"text-align: right;\">\n",
       "      <th></th>\n",
       "      <th>type</th>\n",
       "      <th>content</th>\n",
       "      <th>b_type</th>\n",
       "    </tr>\n",
       "  </thead>\n",
       "  <tbody>\n",
       "    <tr>\n",
       "      <td>333608</td>\n",
       "      <td>bias</td>\n",
       "      <td>ο επίτροπος για την ψηφιακή οικονομία και την ...</td>\n",
       "      <td>FAKE</td>\n",
       "    </tr>\n",
       "    <tr>\n",
       "      <td>333880</td>\n",
       "      <td>bias</td>\n",
       "      <td>η εε απέχει παρασάγγας από τον στόχο της να με...</td>\n",
       "      <td>FAKE</td>\n",
       "    </tr>\n",
       "    <tr>\n",
       "      <td>334336</td>\n",
       "      <td>bias</td>\n",
       "      <td>ενώ η αυστρία απειλεί με βέτο στο ψήφισμα των ...</td>\n",
       "      <td>FAKE</td>\n",
       "    </tr>\n",
       "    <tr>\n",
       "      <td>334338</td>\n",
       "      <td>bias</td>\n",
       "      <td>οι ψηφοφόροι των χωρών-μελών της ευρωπαϊκής έν...</td>\n",
       "      <td>FAKE</td>\n",
       "    </tr>\n",
       "    <tr>\n",
       "      <td>334351</td>\n",
       "      <td>bias</td>\n",
       "      <td>αλβανια, η κολομβια της ευρωπης η αλβανία έχει...</td>\n",
       "      <td>FAKE</td>\n",
       "    </tr>\n",
       "    <tr>\n",
       "      <td>...</td>\n",
       "      <td>...</td>\n",
       "      <td>...</td>\n",
       "      <td>...</td>\n",
       "    </tr>\n",
       "    <tr>\n",
       "      <td>470593</td>\n",
       "      <td>bias</td>\n",
       "      <td>οι ρουμάνοι άρχισαν να ψηφίζουν σήμερα στις βο...</td>\n",
       "      <td>FAKE</td>\n",
       "    </tr>\n",
       "    <tr>\n",
       "      <td>470609</td>\n",
       "      <td>bias</td>\n",
       "      <td>δεκάδες διανοούμενοι, πολιτικοί, δημοσιογράφοι...</td>\n",
       "      <td>FAKE</td>\n",
       "    </tr>\n",
       "    <tr>\n",
       "      <td>470610</td>\n",
       "      <td>bias</td>\n",
       "      <td>σφοδρή επίθεση στην κυβέρνηση εξαπέλυσε η επικ...</td>\n",
       "      <td>FAKE</td>\n",
       "    </tr>\n",
       "    <tr>\n",
       "      <td>687116</td>\n",
       "      <td>fake</td>\n",
       "      <td>μan gets electrocuted as he tries to steal ele...</td>\n",
       "      <td>FAKE</td>\n",
       "    </tr>\n",
       "    <tr>\n",
       "      <td>754590</td>\n",
       "      <td>fake</td>\n",
       "      <td>μain challenges sυριζα faces following ep&lt;NUM&gt;...</td>\n",
       "      <td>FAKE</td>\n",
       "    </tr>\n",
       "  </tbody>\n",
       "</table>\n",
       "<p>1255 rows × 3 columns</p>\n",
       "</div>"
      ],
      "text/plain": [
       "        type                                            content b_type\n",
       "333608  bias  ο επίτροπος για την ψηφιακή οικονομία και την ...   FAKE\n",
       "333880  bias  η εε απέχει παρασάγγας από τον στόχο της να με...   FAKE\n",
       "334336  bias  ενώ η αυστρία απειλεί με βέτο στο ψήφισμα των ...   FAKE\n",
       "334338  bias  οι ψηφοφόροι των χωρών-μελών της ευρωπαϊκής έν...   FAKE\n",
       "334351  bias  αλβανια, η κολομβια της ευρωπης η αλβανία έχει...   FAKE\n",
       "...      ...                                                ...    ...\n",
       "470593  bias  οι ρουμάνοι άρχισαν να ψηφίζουν σήμερα στις βο...   FAKE\n",
       "470609  bias  δεκάδες διανοούμενοι, πολιτικοί, δημοσιογράφοι...   FAKE\n",
       "470610  bias  σφοδρή επίθεση στην κυβέρνηση εξαπέλυσε η επικ...   FAKE\n",
       "687116  fake  μan gets electrocuted as he tries to steal ele...   FAKE\n",
       "754590  fake  μain challenges sυριζα faces following ep<NUM>...   FAKE\n",
       "\n",
       "[1255 rows x 3 columns]"
      ]
     },
     "execution_count": 16,
     "metadata": {},
     "output_type": "execute_result"
    }
   ],
   "source": [
    "#finding Russian articles\n",
    "df_g = df[df['content'].str.match('[Α-Ωα-ωίϊΐόάέύϋΰήώ]')].copy()\n",
    "df_g"
   ]
  },
  {
   "cell_type": "code",
   "execution_count": 17,
   "metadata": {},
   "outputs": [],
   "source": [
    "#counting character occurences\n",
    "df_g['count'] = df_g['content'].apply(lambda x: len(re.findall(r\"([Α-Ωα-ωίϊΐόάέύϋΰήώ])\",x)))"
   ]
  },
  {
   "cell_type": "code",
   "execution_count": 18,
   "metadata": {},
   "outputs": [
    {
     "name": "stdout",
     "output_type": "stream",
     "text": [
      "Articles in common: 0\n"
     ]
    }
   ],
   "source": [
    "#controlling overlap beetween Russian and Greek articles\n",
    "rus = set(df_r['content'])\n",
    "greek = set(df_g['content'])\n",
    "\n",
    "print(f'Articles in common: {len(rus.intersection(greek))}')"
   ]
  },
  {
   "cell_type": "code",
   "execution_count": 19,
   "metadata": {},
   "outputs": [
    {
     "data": {
      "image/png": "[encoded data removed]",
      "text/plain": [
       "<Figure size 1152x288 with 1 Axes>"
      ]
     },
     "metadata": {
      "needs_background": "light"
     },
     "output_type": "display_data"
    }
   ],
   "source": [
    "fig, axes = plt.subplots(figsize=(16,4))   \n",
    "\n",
    "plt.xlabel('Greek character count')\n",
    "\n",
    "n, bins, patches = plt.hist(df_g['count'], 200,  \n",
    "                            density = 1, range =[0,7500])"
   ]
  },
  {
   "cell_type": "markdown",
   "metadata": {},
   "source": [
    "Most of the articles detected contain a fairly large amount of non-English characters. They can be removed with reduced fear of loss of relevant data."
   ]
  }
 ],
 "metadata": {
  "kernelspec": {
   "display_name": "Python 3",
   "language": "python",
   "name": "python3"
  },
  "language_info": {
   "codemirror_mode": {
    "name": "ipython",
    "version": 3
   },
   "file_extension": ".py",
   "mimetype": "text/x-python",
   "name": "python",
   "nbconvert_exporter": "python",
   "pygments_lexer": "ipython3",
   "version": "3.7.4"
  }
 },
 "nbformat": 4,
 "nbformat_minor": 2
}
