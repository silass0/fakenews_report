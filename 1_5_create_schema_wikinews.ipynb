{
 "cells": [
  {
   "cell_type": "code",
   "execution_count": 1,
   "metadata": {},
   "outputs": [],
   "source": [
    "import pandas as pd\n",
    "import re"
   ]
  },
  {
   "cell_type": "code",
   "execution_count": 2,
   "metadata": {},
   "outputs": [],
   "source": [
    "# load data\n",
    "filepath = '/home/silas/Documents/DataScience Notebooks/scraping/WikiNews/scrape_wikinews.csv'\n",
    "df = pd.read_csv(filepath,\n",
    "                names = ['id','title','url','date_written','keywords','content'],\n",
    "                dtype={'id':'str'})"
   ]
  },
  {
   "cell_type": "code",
   "execution_count": 3,
   "metadata": {},
   "outputs": [],
   "source": [
    "#str -> list\n",
    "df['keywords'] =df['keywords'].apply(lambda x: re.findall(r\"'([^']+)'\",x))"
   ]
  },
  {
   "cell_type": "code",
   "execution_count": 4,
   "metadata": {},
   "outputs": [],
   "source": [
    "def make_dicts():\n",
    "    \n",
    "    def makeDateDict():\n",
    "        date_lst = list(df['date_written'].unique())\n",
    "        date_lst.remove('None')\n",
    "        return {elm:idx for idx,elm in enumerate(date_lst)} \n",
    "    \n",
    "    def makeKeywordDict():\n",
    "        st = set()\n",
    "        for elm in df['keywords']:\n",
    "            if elm != None: st.update(elm)\n",
    "        return {elm:idx for idx,elm in enumerate(st)}\n",
    "\n",
    "    return makeDateDict(), makeKeywordDict(),\n",
    "\n",
    "#get dicts\n",
    "date_dict, keyword_dict = make_dicts()"
   ]
  },
  {
   "cell_type": "code",
   "execution_count": 5,
   "metadata": {},
   "outputs": [],
   "source": [
    "# article csv\n",
    "def make_article_csv():\n",
    "    article_df = pd.DataFrame(\n",
    "        data={'id':list(df.id),\n",
    "              'time_id':list(map(lambda x: str(date_dict[x]) if x != \"None\" else None,list(df.date_written)))\n",
    "             }\n",
    "                            )\n",
    "    article_df = article_df.join(df[['id','url','content','title']].set_index('id'),on='id')\n",
    "    article_df.to_csv('wiki_article.csv',index=False)"
   ]
  },
  {
   "cell_type": "code",
   "execution_count": 6,
   "metadata": {},
   "outputs": [],
   "source": [
    "def make_simple_csv(dictx,filename):\n",
    "    frame = pd.DataFrame({'id':list(dictx.values()), 'value':list(dictx)})\n",
    "    frame.drop_duplicates().to_csv(filename,index=False)"
   ]
  },
  {
   "cell_type": "code",
   "execution_count": 7,
   "metadata": {},
   "outputs": [],
   "source": [
    "def make_multi_csv(dictx,filename,column_name,id_name):\n",
    "    frame = pd.DataFrame(df[['id',column_name]])\n",
    "    frame = frame.dropna()\n",
    "    frame = frame.explode(column_name)\n",
    "    frame[column_name] = frame[column_name].apply(lambda x: dictx[x])\n",
    "    frame.drop_duplicates().to_csv(filename, index=False, header=['id',id_name])"
   ]
  },
  {
   "cell_type": "code",
   "execution_count": 8,
   "metadata": {},
   "outputs": [],
   "source": [
    "make_article_csv()\n",
    "\n",
    "make_simple_csv(date_dict,'wiki_time.csv')\n",
    "make_simple_csv(keyword_dict,'wiki_keyword.csv')\n",
    "\n",
    "make_multi_csv(keyword_dict,'wiki_keywords.csv','keywords','keyword_id')"
   ]
  },
  {
   "cell_type": "code",
   "execution_count": null,
   "metadata": {},
   "outputs": [],
   "source": []
  }
 ],
 "metadata": {
  "kernelspec": {
   "display_name": "Python 3",
   "language": "python",
   "name": "python3"
  },
  "language_info": {
   "codemirror_mode": {
    "name": "ipython",
    "version": 3
   },
   "file_extension": ".py",
   "mimetype": "text/x-python",
   "name": "python",
   "nbconvert_exporter": "python",
   "pygments_lexer": "ipython3",
   "version": "3.7.4"
  }
 },
 "nbformat": 4,
 "nbformat_minor": 2
}
