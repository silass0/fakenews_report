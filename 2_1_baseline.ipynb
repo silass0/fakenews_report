{
 "cells": [
  {
   "cell_type": "code",
   "execution_count": 1,
   "metadata": {},
   "outputs": [],
   "source": [
    "#importing packages\n",
    "import pandas as pd\n",
    "import time\n",
    "from sklearn.model_selection import train_test_split, cross_val_score\n",
    "from sklearn.feature_extraction.text import TfidfVectorizer\n",
    "from sklearn.metrics import accuracy_score\n",
    "import matplotlib.pyplot as plt\n",
    "import seaborn as sns\n",
    "\n",
    "#importing models\n",
    "from sklearn.svm import LinearSVC\n",
    "from sklearn.tree import DecisionTreeClassifier\n",
    "from sklearn.neighbors import KNeighborsClassifier\n",
    "from sklearn.naive_bayes import ComplementNB\n",
    "from sklearn.linear_model import LogisticRegression\n",
    "from sklearn.neural_network import MLPClassifier\n",
    "from sklearn.ensemble import RandomForestClassifier, AdaBoostClassifier, GradientBoostingClassifier, VotingClassifier"
   ]
  },
  {
   "cell_type": "markdown",
   "metadata": {},
   "source": [
    "## Setup"
   ]
  },
  {
   "cell_type": "code",
   "execution_count": 2,
   "metadata": {},
   "outputs": [],
   "source": [
    "#reading data\n",
    "filepath = '/home/silas/Documents/DataScience Notebooks/csv/1mio-clean.csv'\n",
    "df = pd.read_csv(filepath,usecols=[3,5])\n",
    "df = df.dropna() #removing null-labels\n",
    "df = df.drop_duplicates()"
   ]
  },
  {
   "cell_type": "code",
   "execution_count": 3,
   "metadata": {},
   "outputs": [],
   "source": [
    "#mapping to binary classes\n",
    "df['type_b'] = df['type'].apply(lambda x: 1 if x in ['conspiracy','satire','bias','fake','junksci'] else 0)"
   ]
  },
  {
   "cell_type": "code",
   "execution_count": 4,
   "metadata": {},
   "outputs": [
    {
     "name": "stdout",
     "output_type": "stream",
     "text": [
      "length: 586902\n",
      "ratio: 0.47641684642410487\n"
     ]
    }
   ],
   "source": [
    "#Ratio of FAKE (entire dataset): \n",
    "print(f\"length: {len(df)}\\nratio: {len(df.loc[df['type_b']==1])/len(df)}\")"
   ]
  },
  {
   "cell_type": "code",
   "execution_count": 5,
   "metadata": {},
   "outputs": [
    {
     "name": "stdout",
     "output_type": "stream",
     "text": [
      "length: 58690\n",
      "ratio: 0.4759243482705742\n"
     ]
    }
   ],
   "source": [
    "#sampling a random subset of 10% size\n",
    "df_frac = df.sample(frac=0.1)\n",
    "#ratio of FAKE after sampling\n",
    "print(f\"length: {len(df_frac)}\\nratio: {len(df_frac.loc[df_frac['type_b']==1])/len(df_frac)}\")"
   ]
  },
  {
   "cell_type": "markdown",
   "metadata": {},
   "source": [
    "## Selecting a baseline\n",
    "A baseline is selected among 6 default classifiers that are evaluated on 10% of the dataset. The means of cross validation scores are used as scoring metric as this metric is less random than a plain accuracy score, thus giving a stronger foundation for model selection. "
   ]
  },
  {
   "cell_type": "code",
   "execution_count": 6,
   "metadata": {},
   "outputs": [],
   "source": [
    "# determine tf-idf \n",
    "vectorizer = TfidfVectorizer()\n",
    "X = vectorizer.fit_transform(df_frac['content'])\n",
    "y = df_frac['type_b']"
   ]
  },
  {
   "cell_type": "code",
   "execution_count": 7,
   "metadata": {},
   "outputs": [],
   "source": [
    "# models\n",
    "models = [LinearSVC(),DecisionTreeClassifier(),KNeighborsClassifier(),ComplementNB(),\n",
    "          LogisticRegression(solver='lbfgs',max_iter=1000),RandomForestClassifier(n_estimators=10)]\n",
    "# names of models\n",
    "names = ['LinearSVC','DecisionTreeClassifier','KNeighborsClassifier','ComplementNB',\n",
    "         'LogisticRegression','RandomForestClassifier']"
   ]
  },
  {
   "cell_type": "code",
   "execution_count": 8,
   "metadata": {},
   "outputs": [],
   "source": [
    "times = [] #training time (seconds)\n",
    "means = [] #mean accuracy\n",
    "\n",
    "for model in models:\n",
    "    start = time.time()\n",
    "    scores = cross_val_score(model, X, y, scoring=\"accuracy\", cv=5)\n",
    "    means.append(scores.mean())\n",
    "    #model.fit(X_train_frac,y_train_frac)\n",
    "    #scores.append(model.score(X_test_frac,y_test_frac))\n",
    "    stop = time.time()\n",
    "    times.append(stop-start)"
   ]
  },
  {
   "cell_type": "code",
   "execution_count": 9,
   "metadata": {},
   "outputs": [
    {
     "data": {
      "image/png": "[encoded data removed]",
      "text/plain": [
       "<Figure size 432x288 with 1 Axes>"
      ]
     },
     "metadata": {
      "needs_background": "light"
     },
     "output_type": "display_data"
    }
   ],
   "source": [
    "# plot score\n",
    "d = pd.DataFrame({'name':names, 'mean accuracy':means,'time':times}).sort_values(by=['mean accuracy'])\n",
    "fig = sns.barplot('mean accuracy','name',data=d)\n",
    "fig = fig.set_ylabel('')"
   ]
  },
  {
   "cell_type": "code",
   "execution_count": 10,
   "metadata": {},
   "outputs": [
    {
     "data": {
      "image/png": "[encoded data removed]",
      "text/plain": [
       "<Figure size 432x288 with 1 Axes>"
      ]
     },
     "metadata": {
      "needs_background": "light"
     },
     "output_type": "display_data"
    }
   ],
   "source": [
    "# plot time\n",
    "fig = sns.barplot('time','name',data=d)\n",
    "fig = fig.set_ylabel('')"
   ]
  },
  {
   "cell_type": "markdown",
   "metadata": {},
   "source": [
    "LinearSVC is chosen\n",
    "\n",
    "## Setup - the entire dataset"
   ]
  },
  {
   "cell_type": "code",
   "execution_count": 11,
   "metadata": {},
   "outputs": [],
   "source": [
    "#splitting the entire dataset\n",
    "X_train, X_test, y_train, y_test = train_test_split(df['content'], df['type_b'], test_size=0.2, random_state=1)"
   ]
  },
  {
   "cell_type": "code",
   "execution_count": 12,
   "metadata": {},
   "outputs": [],
   "source": [
    "# determine tf-idf \n",
    "vectorizer = TfidfVectorizer()\n",
    "X_train = vectorizer.fit_transform(X_train)\n",
    "X_test = vectorizer.transform(X_test)"
   ]
  },
  {
   "cell_type": "markdown",
   "metadata": {},
   "source": [
    "## Evaluating LinearSVC baseline "
   ]
  },
  {
   "cell_type": "code",
   "execution_count": 13,
   "metadata": {},
   "outputs": [
    {
     "name": "stdout",
     "output_type": "stream",
     "text": [
      "accuracy: 0.8821955853161926\n"
     ]
    }
   ],
   "source": [
    "model = LinearSVC()\n",
    "model.fit(X_train,y_train)\n",
    "score = model.score(X_test,y_test)\n",
    "print(f\"accuracy: {score}\")"
   ]
  },
  {
   "cell_type": "markdown",
   "metadata": {},
   "source": [
    "## Evaluating the very simple baseline (the monkey)"
   ]
  },
  {
   "cell_type": "code",
   "execution_count": 14,
   "metadata": {},
   "outputs": [],
   "source": [
    "#very simple baseline model\n",
    "def simpleBaseline(X_test,y_train):\n",
    "    l = X_test.shape[0] #length of test set\n",
    "    p = round(y_train.mean())\n",
    "    return [p]*l #returns dense list of all predictions"
   ]
  },
  {
   "cell_type": "code",
   "execution_count": 15,
   "metadata": {},
   "outputs": [
    {
     "name": "stdout",
     "output_type": "stream",
     "text": [
      "accuracy: 0.5209701740486109\n"
     ]
    }
   ],
   "source": [
    "predVal = simpleBaseline(X_test,y_train)[0]\n",
    "#Accuracy of simple baseline\n",
    "simpleAcc = list(y_test).count(predVal)/len(y_test)\n",
    "print(f\"accuracy: {simpleAcc}\")"
   ]
  }
 ],
 "metadata": {
  "kernelspec": {
   "display_name": "Python 3",
   "language": "python",
   "name": "python3"
  },
  "language_info": {
   "codemirror_mode": {
    "name": "ipython",
    "version": 3
   },
   "file_extension": ".py",
   "mimetype": "text/x-python",
   "name": "python",
   "nbconvert_exporter": "python",
   "pygments_lexer": "ipython3",
   "version": "3.7.4"
  }
 },
 "nbformat": 4,
 "nbformat_minor": 2
}
