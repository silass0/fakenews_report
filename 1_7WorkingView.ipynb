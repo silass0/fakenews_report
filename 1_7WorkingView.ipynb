{
 "cells": [
  {
   "cell_type": "markdown",
   "metadata": {},
   "source": [
    "# 1.7 Illustration of working view\n"
   ]
  },
  {
   "cell_type": "code",
   "execution_count": 50,
   "metadata": {},
   "outputs": [],
   "source": [
    "import psycopg2 #To connect and use PostgreSQL on the FakeNewsCorpus-database.\n",
    "#Function for queries with database\n",
    "def execQuery(query,*printOption):\n",
    "    try:\n",
    "        connection = psycopg2.connect(user = \"postgres\",\n",
    "                                      password = \"Rerik123\",\n",
    "                                      host = \"localhost\",\n",
    "                                      port = \"5432\",\n",
    "                                      database = \"postgres\")\n",
    "        cursor = connection.cursor()\n",
    "        cursor.execute(query)\n",
    "        record = cursor.fetchall()\n",
    "        return record\n",
    "    except (Exception, psycopg2.Error) as error :\n",
    "        connection = False\n",
    "        print (\"Error while connecting to PostgreSQL:\", error)\n",
    "    finally:\n",
    "        if(connection):\n",
    "            cursor.close()\n",
    "            connection.close()\n",
    "            if not printOption:\n",
    "                print(\"Executed query and closed connection.\")"
   ]
  },
  {
   "cell_type": "code",
   "execution_count": 51,
   "metadata": {},
   "outputs": [
    {
     "name": "stdout",
     "output_type": "stream",
     "text": [
      "Executed query and closed connection.\n"
     ]
    },
    {
     "data": {
      "text/plain": [
       "3007219"
      ]
     },
     "execution_count": 51,
     "metadata": {},
     "output_type": "execute_result"
    }
   ],
   "source": [
    "numOfArticlesInView = execQuery(\"\"\"\n",
    "SELECT COUNT(*) \n",
    "FROM c.article_view\n",
    "\"\"\")[0][0]\n",
    "\n",
    "numOfArticlesInView"
   ]
  },
  {
   "cell_type": "code",
   "execution_count": 49,
   "metadata": {},
   "outputs": [
    {
     "name": "stdout",
     "output_type": "stream",
     "text": [
      "Executed query and closed connection.\n"
     ]
    },
    {
     "data": {
      "text/plain": [
       "[('bias', 252),\n",
       " ('clickbait', 6),\n",
       " ('conspiracy', 699),\n",
       " ('fake', 6),\n",
       " ('junksci', 99),\n",
       " ('political', 1047),\n",
       " ('satire', 60),\n",
       " ('unreliable', 3),\n",
       " (None, 0)]"
      ]
     },
     "execution_count": 49,
     "metadata": {},
     "output_type": "execute_result"
    }
   ],
   "source": [
    "realisticQueryUsingSeveralThings = execQuery(\"\"\"\n",
    "SELECT DISTINCT c.article_view.type, COUNT(c.article_view.type)\n",
    "FROM c.article_view\n",
    "    INNER JOIN c.keywords_view ON (c.article_view.article_id=c.keywords_view.article_id)\n",
    "    INNER JOIN c.keyword_view ON (c.keyword_view.keyword_id=c.keywords_view.keyword_id)\n",
    "WHERE c.keyword_view.value='trump'\n",
    "GROUP BY c.article_view.type;\n",
    "\"\"\")\n",
    "realisticQueryUsingSeveralThings #Are articles about Trump fake news?"
   ]
  }
 ],
 "metadata": {
  "kernelspec": {
   "display_name": "Python 3",
   "language": "python",
   "name": "python3"
  },
  "language_info": {
   "codemirror_mode": {
    "name": "ipython",
    "version": 3
   },
   "file_extension": ".py",
   "mimetype": "text/x-python",
   "name": "python",
   "nbconvert_exporter": "python",
   "pygments_lexer": "ipython3",
   "version": "3.7.4"
  }
 },
 "nbformat": 4,
 "nbformat_minor": 2
}
